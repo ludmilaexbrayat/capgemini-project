{
 "cells": [
  {
   "cell_type": "markdown",
   "metadata": {
    "colab_type": "text",
    "id": "AJJa5LepUlM5"
   },
   "source": [
    "# Making initial imports"
   ]
  },
  {
   "cell_type": "code",
   "execution_count": 1,
   "metadata": {
    "colab": {},
    "colab_type": "code",
    "id": "B1brrbapzwjh"
   },
   "outputs": [],
   "source": [
    "# !pip install langdetect\n",
    "import pandas as pd\n",
    "import matplotlib.pyplot as plt\n",
    "import seaborn as sns\n",
    "import re"
   ]
  },
  {
   "cell_type": "code",
   "execution_count": 2,
   "metadata": {
    "colab": {
     "base_uri": "https://localhost:8080/",
     "height": 102
    },
    "colab_type": "code",
    "id": "cX6z2S4cPsVu",
    "outputId": "ddf42c5b-5901-4ea0-e200-c2a26cbe32a8"
   },
   "outputs": [
    {
     "name": "stderr",
     "output_type": "stream",
     "text": [
      "[nltk_data] Downloading package punkt to\n",
      "[nltk_data]     /Users/skanderkamoun/nltk_data...\n",
      "[nltk_data]   Package punkt is already up-to-date!\n",
      "[nltk_data] Downloading package stopwords to\n",
      "[nltk_data]     /Users/skanderkamoun/nltk_data...\n",
      "[nltk_data]   Package stopwords is already up-to-date!\n"
     ]
    },
    {
     "data": {
      "text/plain": [
       "True"
      ]
     },
     "execution_count": 2,
     "metadata": {},
     "output_type": "execute_result"
    }
   ],
   "source": [
    "# NLP library imports\n",
    "import nltk\n",
    "from nltk.corpus import stopwords\n",
    "from nltk.stem.wordnet import WordNetLemmatizer\n",
    "from nltk.stem import PorterStemmer\n",
    "from nltk import word_tokenize\n",
    "from nltk.tokenize import sent_tokenize\n",
    "from nltk.tokenize import word_tokenize\n",
    "nltk.download('punkt')\n",
    "nltk.download('stopwords')"
   ]
  },
  {
   "cell_type": "markdown",
   "metadata": {
    "colab_type": "text",
    "id": "s5YWKd3kDjAN"
   },
   "source": [
    "# Loading data scrapped on TrustPilot"
   ]
  },
  {
   "cell_type": "markdown",
   "metadata": {
    "colab_type": "text",
    "id": "SVw85YFlviN_"
   },
   "source": [
    "The dataframe is  composed with the comments scraped on Trustpolit at [this page](https://fr.trustpilot.com/review/www.centerparcs.fr/fr-fr)."
   ]
  },
  {
   "cell_type": "code",
   "execution_count": 3,
   "metadata": {
    "colab": {
     "base_uri": "https://localhost:8080/",
     "height": 204
    },
    "colab_type": "code",
    "id": "ihyBDJ8tsv6v",
    "outputId": "c3395200-8aa6-49ef-efcb-00cb275e889d",
    "scrolled": true
   },
   "outputs": [
    {
     "data": {
      "text/html": [
       "<div>\n",
       "<style scoped>\n",
       "    .dataframe tbody tr th:only-of-type {\n",
       "        vertical-align: middle;\n",
       "    }\n",
       "\n",
       "    .dataframe tbody tr th {\n",
       "        vertical-align: top;\n",
       "    }\n",
       "\n",
       "    .dataframe thead th {\n",
       "        text-align: right;\n",
       "    }\n",
       "</style>\n",
       "<table border=\"1\" class=\"dataframe\">\n",
       "  <thead>\n",
       "    <tr style=\"text-align: right;\">\n",
       "      <th></th>\n",
       "      <th>hotel_name</th>\n",
       "      <th>published_date</th>\n",
       "      <th>rating</th>\n",
       "      <th>review</th>\n",
       "      <th>language</th>\n",
       "      <th>title</th>\n",
       "      <th>trip_date</th>\n",
       "      <th>tokens</th>\n",
       "      <th>review_lemmatized</th>\n",
       "      <th>title_lemmatized</th>\n",
       "    </tr>\n",
       "  </thead>\n",
       "  <tbody>\n",
       "    <tr>\n",
       "      <th>0</th>\n",
       "      <td>Center Parcs Le Lac d'Ailette</td>\n",
       "      <td>27 septembre 2018</td>\n",
       "      <td>4</td>\n",
       "      <td>Après une désastreuse aventure au Bois franc, ...</td>\n",
       "      <td>fr</td>\n",
       "      <td>très bon week end</td>\n",
       "      <td>août 2018</td>\n",
       "      <td>['apres', 'desastreuse', 'aventure', 'bois', '...</td>\n",
       "      <td>['apre', 'desastr', 'aventur', 'bois', 'franc'...</td>\n",
       "      <td>['tre', 'bon', 'week', 'end']</td>\n",
       "    </tr>\n",
       "    <tr>\n",
       "      <th>1</th>\n",
       "      <td>Center Parcs Le Lac d'Ailette</td>\n",
       "      <td>18 janvier 2019</td>\n",
       "      <td>5</td>\n",
       "      <td>Ambiance détendue , une vraie déconnexion.  Le...</td>\n",
       "      <td>fr</td>\n",
       "      <td>Séjour agréable comme toujours ,une vraie déco...</td>\n",
       "      <td>mars 2018</td>\n",
       "      <td>['ambiance', 'detendue', 'vraie', 'deconnexion...</td>\n",
       "      <td>['ambianc', 'detendu', 'vrai', 'deconnexion', ...</td>\n",
       "      <td>['sejour', 'agreabl', 'comm', 'toujour', 'vrai...</td>\n",
       "    </tr>\n",
       "    <tr>\n",
       "      <th>2</th>\n",
       "      <td>Center Parcs Le Lac d'Ailette</td>\n",
       "      <td>11 novembre 2018</td>\n",
       "      <td>3</td>\n",
       "      <td>Première fois que nous allions à center Parcs ...</td>\n",
       "      <td>fr</td>\n",
       "      <td>3,5 serait plus juste</td>\n",
       "      <td>juillet 2018</td>\n",
       "      <td>['premiere', 'fois', 'allions', 'center', 'par...</td>\n",
       "      <td>['premier', 'fois', 'allion', 'cent', 'parc', ...</td>\n",
       "      <td>['3 5', 'plus', 'just']</td>\n",
       "    </tr>\n",
       "    <tr>\n",
       "      <th>3</th>\n",
       "      <td>Center Parcs Le Lac d'Ailette</td>\n",
       "      <td>3 octobre 2018</td>\n",
       "      <td>4</td>\n",
       "      <td>Génial pour les enfants petits et grands ! Ple...</td>\n",
       "      <td>fr</td>\n",
       "      <td>Endroit sympathique</td>\n",
       "      <td>avril 2018</td>\n",
       "      <td>['genial', 'enfants', 'petits', 'grands', 'ple...</td>\n",
       "      <td>['genial', 'enfant', 'petit', 'grand', 'plein'...</td>\n",
       "      <td>['endroit', 'sympath']</td>\n",
       "    </tr>\n",
       "    <tr>\n",
       "      <th>4</th>\n",
       "      <td>Center Parcs Le Lac d'Ailette</td>\n",
       "      <td>17 janvier 2019</td>\n",
       "      <td>2</td>\n",
       "      <td>Nous avons fait une réservation avec notre CE ...</td>\n",
       "      <td>fr</td>\n",
       "      <td>Réservation février 2019</td>\n",
       "      <td>janvier 2019</td>\n",
       "      <td>['fait', 'reservation', 'novembre', '2018', 'c...</td>\n",
       "      <td>['fait', 'reserv', 'novembr', '2018', 'cottag'...</td>\n",
       "      <td>['reserv', 'fevri', '2019']</td>\n",
       "    </tr>\n",
       "  </tbody>\n",
       "</table>\n",
       "</div>"
      ],
      "text/plain": [
       "                      hotel_name     published_date  rating  \\\n",
       "0  Center Parcs Le Lac d'Ailette  27 septembre 2018       4   \n",
       "1  Center Parcs Le Lac d'Ailette    18 janvier 2019       5   \n",
       "2  Center Parcs Le Lac d'Ailette   11 novembre 2018       3   \n",
       "3  Center Parcs Le Lac d'Ailette     3 octobre 2018       4   \n",
       "4  Center Parcs Le Lac d'Ailette    17 janvier 2019       2   \n",
       "\n",
       "                                              review language  \\\n",
       "0  Après une désastreuse aventure au Bois franc, ...       fr   \n",
       "1  Ambiance détendue , une vraie déconnexion.  Le...       fr   \n",
       "2  Première fois que nous allions à center Parcs ...       fr   \n",
       "3  Génial pour les enfants petits et grands ! Ple...       fr   \n",
       "4  Nous avons fait une réservation avec notre CE ...       fr   \n",
       "\n",
       "                                               title      trip_date  \\\n",
       "0                                  très bon week end      août 2018   \n",
       "1  Séjour agréable comme toujours ,une vraie déco...      mars 2018   \n",
       "2                             3,5 serait plus juste    juillet 2018   \n",
       "3                                Endroit sympathique     avril 2018   \n",
       "4                           Réservation février 2019   janvier 2019   \n",
       "\n",
       "                                              tokens  \\\n",
       "0  ['apres', 'desastreuse', 'aventure', 'bois', '...   \n",
       "1  ['ambiance', 'detendue', 'vraie', 'deconnexion...   \n",
       "2  ['premiere', 'fois', 'allions', 'center', 'par...   \n",
       "3  ['genial', 'enfants', 'petits', 'grands', 'ple...   \n",
       "4  ['fait', 'reservation', 'novembre', '2018', 'c...   \n",
       "\n",
       "                                   review_lemmatized  \\\n",
       "0  ['apre', 'desastr', 'aventur', 'bois', 'franc'...   \n",
       "1  ['ambianc', 'detendu', 'vrai', 'deconnexion', ...   \n",
       "2  ['premier', 'fois', 'allion', 'cent', 'parc', ...   \n",
       "3  ['genial', 'enfant', 'petit', 'grand', 'plein'...   \n",
       "4  ['fait', 'reserv', 'novembr', '2018', 'cottag'...   \n",
       "\n",
       "                                    title_lemmatized  \n",
       "0                      ['tre', 'bon', 'week', 'end']  \n",
       "1  ['sejour', 'agreabl', 'comm', 'toujour', 'vrai...  \n",
       "2                            ['3 5', 'plus', 'just']  \n",
       "3                             ['endroit', 'sympath']  \n",
       "4                        ['reserv', 'fevri', '2019']  "
      ]
     },
     "execution_count": 3,
     "metadata": {},
     "output_type": "execute_result"
    }
   ],
   "source": [
    "df = pd.read_csv('clean_data_group_5.csv')\n",
    "df.head()"
   ]
  },
  {
   "cell_type": "code",
   "execution_count": 4,
   "metadata": {
    "scrolled": true
   },
   "outputs": [
    {
     "data": {
      "text/plain": [
       "0      Après une désastreuse aventure au Bois franc, ...\n",
       "1      Ambiance détendue , une vraie déconnexion.  Le...\n",
       "2      Première fois que nous allions à center Parcs ...\n",
       "3      Génial pour les enfants petits et grands ! Ple...\n",
       "4      Nous avons fait une réservation avec notre CE ...\n",
       "5      This was the third European CP we've visited, ...\n",
       "6      I have to admit after reading so many negative...\n",
       "7      they have good amenities but the cottages are ...\n",
       "8      Pool was fun but there was overcrowding at tim...\n",
       "9      Our third European Centre Parcs.  The location...\n",
       "10     Hi- we are on our way home following a week at...\n",
       "11     the place is nice, looks good.BUT we arrived t...\n",
       "12     Journey from folkestone was easy it took appro...\n",
       "13     Just had a fab family holiday plenty to do and...\n",
       "14     This was our third stay in a Center Parcs' vil...\n",
       "15     Stayed 24th Aug to 27th Aug. Very easy to get ...\n",
       "16     So getting here was easy just 2.5 hours from C...\n",
       "17     We had a nice family weekend here. It is a ver...\n",
       "18     We had a fantastic 7 night stay at the start o...\n",
       "19     Stayed in premium 4 bed house 401! Not a fault...\n",
       "20     What a great place to stay! Lovely peaceful, g...\n",
       "21     I am writing this on my last day sitting on a ...\n",
       "22     We have just returned from a trip to this Cent...\n",
       "23     Aqua mundo was the highlight- whole family lov...\n",
       "24     We spent 4 nights recently and had a good time...\n",
       "25     Stayed in a Premium 4 bedroom cottage, loads o...\n",
       "26     Our family visited this parc last week. Premiu...\n",
       "27     I was really torn when it came to booking this...\n",
       "28     We had a great holiday at Le Lac there were pl...\n",
       "29     Please don't be put off by some of the reviews...\n",
       "                             ...                        \n",
       "633    We returned from Center Parcs Le Lac d'Ailette...\n",
       "634    Filthy dirty villas; filthy swimming pools; la...\n",
       "635    We have been to 2 of the UK parcs and although...\n",
       "636    We totally agree with all the positive reviews...\n",
       "637    Just returned from 2 weeks at this park after ...\n",
       "638    Having visited UK parks and one in Belguim  - ...\n",
       "639    like, I suspect,  other people I was a bit anx...\n",
       "640    After reading some bad reviews I was a bit sce...\n",
       "641    Spent a week in that park with 4 children. The...\n",
       "642    This was my first experience of centre parcs f...\n",
       "643    I really enjoyed this holiday at Center Parcs,...\n",
       "644    I'm french so get used to go in the French Cen...\n",
       "645    We had a great holiday, checkin was a breeze a...\n",
       "646    The site was badly signposted when you arrived...\n",
       "647    We booked this CP as a change to our normal du...\n",
       "648    In summary, the pool and kids facilites were g...\n",
       "649    Having enjoyed many stays at all the various E...\n",
       "650    This is the fourth Center Parcs I have visited...\n",
       "651    This was our fifth visit to centerparcs Europe...\n",
       "652    We stayed here for a week 29th May to 5th June...\n",
       "653    This is the 3rd Euro CP I have visited in the ...\n",
       "654    Firstly I have to say that we have been to CP'...\n",
       "655    Did Monday to Friday half term week and it was...\n",
       "656    Not impressed with Centre Parcs at all - site ...\n",
       "657    This is the 7th different Center Parcs we have...\n",
       "658    I'm not sure what I make of this place! It's t...\n",
       "659    We (my husband, 5 and 6 years old girls and my...\n",
       "660    Visited here in April with my husband and 2 ch...\n",
       "661    Journey time from Calais takes approximately 2...\n",
       "662    We stayed at this new Center Parcs 22nd to 26t...\n",
       "Name: review, Length: 663, dtype: object"
      ]
     },
     "execution_count": 4,
     "metadata": {},
     "output_type": "execute_result"
    }
   ],
   "source": [
    "df.review = df.review.apply(lambda x:x.replace(r\"\\u00e8\",\"è\"))\n",
    "df.review = df.review.apply(lambda x:x.replace(r'\\u00e9', 'é'))\n",
    "df.review = df.review.apply(lambda x:x.replace(r\"\\u00ea\",\"ê\"))\n",
    "df.review = df.review.apply(lambda x:x.replace(r\"\\u00eb\",\"ë\"))\n",
    "df.review = df.review.apply(lambda x:x.replace(r\"\\u00fb\",\"û\"))\n",
    "df.review = df.review.apply(lambda x:x.replace(r\"\\u00f9\",\"ù\"))\n",
    "df.review = df.review.apply(lambda x:x.replace(r'\\u00e0', 'à'))\n",
    "df.review = df.review.apply(lambda x:x.replace(r'\\u00e2', 'â'))\n",
    "df.review = df.review.apply(lambda x:x.replace(r'\\u00f4', 'ô'))\n",
    "df.review = df.review.apply(lambda x:x.replace(r'\\u00ee', 'î'))\n",
    "df.review = df.review.apply(lambda x:x.replace(r'\\u00ef', 'ï'))\n",
    "df.review = df.review.apply(lambda x:x.replace(r'\\u2019', \"'\"))\n",
    "df.review = df.review.apply(lambda x:x.replace(r'\\'', \"'\"))\n",
    "\n",
    "df.review"
   ]
  },
  {
   "cell_type": "code",
   "execution_count": 5,
   "metadata": {},
   "outputs": [
    {
     "data": {
      "text/plain": [
       "0                                      très bon week end\n",
       "1      Séjour agréable comme toujours ,une vraie déco...\n",
       "2                                 3,5 serait plus juste \n",
       "3                                    Endroit sympathique\n",
       "4                               Réservation février 2019\n",
       "5               Great holiday, but too many cars on site\n",
       "6                                  Supassed expectations\n",
       "7          good amenities but the cottages are not clean\n",
       "8                    Not enamoured with Le Lac D'Ailette\n",
       "9                     Family holiday - children 10 and 7\n",
       "10                           Very tired and dirty resort\n",
       "11               Nice place, super disappointing service\n",
       "12                                       Annual holiday \n",
       "13                                             Fantastic\n",
       "14                                              Not good\n",
       "15                                          'A surprise'\n",
       "16                  Brilliant Holiday - Here's some tips\n",
       "17             Fun weekend but not the best centre parcs\n",
       "18                   Fantastic stay for the whole family\n",
       "19                                     Best Centre Parcs\n",
       "20               Great place, will definitely come back!\n",
       "21                               Don't believe the hype!\n",
       "22     Works well - kids loved - easy travels - comfo...\n",
       "23                                     Centre parcs fun!\n",
       "24                                    Overall great stay\n",
       "25                       Great stay!!! Good family fun!!\n",
       "26                          Things could be really good.\n",
       "27                Enjoyable but not sure we would return\n",
       "28                                               Aug Fun\n",
       "29                                   Brilliant holiday! \n",
       "                             ...                        \n",
       "633                  Not for us...dirty and understaffed\n",
       "634                                   Cryptosporidium!!!\n",
       "635                          Just like the UK but better\n",
       "636    Great Holiday for Disabled - Really relaxing a...\n",
       "637    Great setting, good accomodation, good facilities\n",
       "638                                      best so far....\n",
       "639    Ignore all the negativity of previous reports ...\n",
       "640          Fantastic holiday with breathtaking nature!\n",
       "641                             Great holiday for family\n",
       "642    Good for children but not clean and far too mu...\n",
       "643               Great Family Holiday With Plenty To Do\n",
       "644                                   No value for money\n",
       "645                                    A superb holiday,\n",
       "646                                The worst trip ever!!\n",
       "647                                       Enjoyable stay\n",
       "648                           Best Centre Parc in France\n",
       "649          Great Lake Vista - Retaurants Disappointing\n",
       "650                      Fantastic Children's Play Areas\n",
       "651                           ok but a bit of a rip off!\n",
       "652     Great week, the sun shone and everyone was happy\n",
       "653                   How many flumes can a man take ???\n",
       "654                      A different type of Centerparcs\n",
       "655                                          fab fab fab\n",
       "656                    Stay at Home and save your money!\n",
       "657                             Not the best Ceter Parcs\n",
       "658                      Center Parcs meets Newport Bay!\n",
       "659                        Happy kids = happy parents ;)\n",
       "660    Great pool, great houses, awful sports facilities\n",
       "661    newly designed accomodation  a breath of fresh...\n",
       "662    First review of great new Center Parcs in Fran...\n",
       "Name: title, Length: 663, dtype: object"
      ]
     },
     "execution_count": 5,
     "metadata": {},
     "output_type": "execute_result"
    }
   ],
   "source": [
    "df.title = df.title.apply(lambda x:x.replace(r\"\\u00e8\",\"è\"))\n",
    "df.title = df.title.apply(lambda x:x.replace(r'\\u00e9', 'é'))\n",
    "df.title = df.title.apply(lambda x:x.replace(r\"\\u00ea\",\"ê\"))\n",
    "df.title = df.title.apply(lambda x:x.replace(r\"\\u00eb\",\"ë\"))\n",
    "df.title = df.title.apply(lambda x:x.replace(r\"\\u00f9\",\"ù\"))\n",
    "df.title = df.title.apply(lambda x:x.replace(r'\\u00ee', 'î'))\n",
    "df.title = df.title.apply(lambda x:x.replace(r'\\u00ef', 'ï'))\n",
    "df.title = df.title.apply(lambda x:x.replace(r\"\\u00fb\",\"û\"))\n",
    "df.title = df.title.apply(lambda x:x.replace(r'\\u00e0', 'à'))\n",
    "df.title = df.title.apply(lambda x:x.replace(r'\\u00e2', 'â'))\n",
    "df.title = df.title.apply(lambda x:x.replace(r'\\u00f4', 'ô'))\n",
    "df.title = df.title.apply(lambda x:x.replace(r'\\u2019', \"'\"))\n",
    "df.title = df.title.apply(lambda x:x.replace(r'\\'', \"'\"))\n",
    "\n",
    "df.title"
   ]
  },
  {
   "cell_type": "code",
   "execution_count": 6,
   "metadata": {},
   "outputs": [],
   "source": [
    "df.trip_date = df.trip_date.apply(lambda x:x.replace(r\"\\u00e8\",\"è\"))\n",
    "df.trip_date = df.trip_date.apply(lambda x:x.replace(r'\\u00e9', 'é'))\n",
    "df.trip_date = df.trip_date.apply(lambda x:x.replace(r\"\\u00ea\",\"ê\"))\n",
    "df.trip_date = df.trip_date.apply(lambda x:x.replace(r\"\\u00eb\",\"ë\"))\n",
    "df.trip_date = df.trip_date.apply(lambda x:x.replace(r\"\\u00f9\",\"ù\"))\n",
    "df.trip_date = df.trip_date.apply(lambda x:x.replace(r'\\u00ee', 'î'))\n",
    "df.trip_date = df.trip_date.apply(lambda x:x.replace(r'\\u00ef', 'ï'))\n",
    "df.trip_date = df.trip_date.apply(lambda x:x.replace(r\"\\u00fb\",\"û\"))\n",
    "df.trip_date = df.trip_date.apply(lambda x:x.replace(r'\\u00e0', 'à'))\n",
    "df.trip_date = df.trip_date.apply(lambda x:x.replace(r'\\u00e2', 'â'))\n",
    "df.trip_date = df.trip_date.apply(lambda x:x.replace(r'\\u00f4', 'ô'))\n",
    "df.trip_date = df.trip_date.apply(lambda x:x.replace(r'\\u2019', \"'\"))\n",
    "df.trip_date = df.trip_date.apply(lambda x:x.replace(r'\\'', \"'\"))"
   ]
  },
  {
   "cell_type": "code",
   "execution_count": 7,
   "metadata": {
    "scrolled": true
   },
   "outputs": [
    {
     "data": {
      "text/plain": [
       "0      Après une désastreuse aventure au Bois franc, ...\n",
       "1      Ambiance détendue , une vraie déconnexion.  Le...\n",
       "2      Première fois que nous allions à center Parcs ...\n",
       "3      Génial pour les enfants petits et grands ! Ple...\n",
       "4      Nous avons fait une réservation avec notre CE ...\n",
       "5      This was the third European CP we've visited, ...\n",
       "6      I have to admit after reading so many negative...\n",
       "7      they have good amenities but the cottages are ...\n",
       "8      Pool was fun but there was overcrowding at tim...\n",
       "9      Our third European Centre Parcs.  The location...\n",
       "10     Hi- we are on our way home following a week at...\n",
       "11     the place is nice, looks good.BUT we arrived t...\n",
       "12     Journey from folkestone was easy it took appro...\n",
       "13     Just had a fab family holiday plenty to do and...\n",
       "14     This was our third stay in a Center Parcs' vil...\n",
       "15     Stayed 24th Aug to 27th Aug. Very easy to get ...\n",
       "16     So getting here was easy just 2.5 hours from C...\n",
       "17     We had a nice family weekend here. It is a ver...\n",
       "18     We had a fantastic 7 night stay at the start o...\n",
       "19     Stayed in premium 4 bed house 401! Not a fault...\n",
       "20     What a great place to stay! Lovely peaceful, g...\n",
       "21     I am writing this on my last day sitting on a ...\n",
       "22     We have just returned from a trip to this Cent...\n",
       "23     Aqua mundo was the highlight- whole family lov...\n",
       "24     We spent 4 nights recently and had a good time...\n",
       "25     Stayed in a Premium 4 bedroom cottage, loads o...\n",
       "26     Our family visited this parc last week. Premiu...\n",
       "27     I was really torn when it came to booking this...\n",
       "28     We had a great holiday at Le Lac there were pl...\n",
       "29     Please don't be put off by some of the reviews...\n",
       "                             ...                        \n",
       "633    We returned from Center Parcs Le Lac d'Ailette...\n",
       "634    Filthy dirty villas; filthy swimming pools; la...\n",
       "635    We have been to 2 of the UK parcs and although...\n",
       "636    We totally agree with all the positive reviews...\n",
       "637    Just returned from 2 weeks at this park after ...\n",
       "638    Having visited UK parks and one in Belguim  - ...\n",
       "639    like, I suspect,  other people I was a bit anx...\n",
       "640    After reading some bad reviews I was a bit sce...\n",
       "641    Spent a week in that park with 4 children. The...\n",
       "642    This was my first experience of centre parcs f...\n",
       "643    I really enjoyed this holiday at Center Parcs,...\n",
       "644    I'm french so get used to go in the French Cen...\n",
       "645    We had a great holiday, checkin was a breeze a...\n",
       "646    The site was badly signposted when you arrived...\n",
       "647    We booked this CP as a change to our normal du...\n",
       "648    In summary, the pool and kids facilites were g...\n",
       "649    Having enjoyed many stays at all the various E...\n",
       "650    This is the fourth Center Parcs I have visited...\n",
       "651    This was our fifth visit to centerparcs Europe...\n",
       "652    We stayed here for a week 29th May to 5th June...\n",
       "653    This is the 3rd Euro CP I have visited in the ...\n",
       "654    Firstly I have to say that we have been to CP'...\n",
       "655    Did Monday to Friday half term week and it was...\n",
       "656    Not impressed with Centre Parcs at all - site ...\n",
       "657    This is the 7th different Center Parcs we have...\n",
       "658    I'm not sure what I make of this place! It's t...\n",
       "659    We (my husband, 5 and 6 years old girls and my...\n",
       "660    Visited here in April with my husband and 2 ch...\n",
       "661    Journey time from Calais takes approximately 2...\n",
       "662    We stayed at this new Center Parcs 22nd to 26t...\n",
       "Name: review, Length: 663, dtype: object"
      ]
     },
     "execution_count": 7,
     "metadata": {},
     "output_type": "execute_result"
    }
   ],
   "source": [
    "df['review']"
   ]
  },
  {
   "cell_type": "markdown",
   "metadata": {
    "colab_type": "text",
    "id": "O3KKfifnDq2V"
   },
   "source": [
    "# Shapping dataFrame"
   ]
  },
  {
   "cell_type": "markdown",
   "metadata": {},
   "source": [
    "**Making some modifications from raw data**"
   ]
  },
  {
   "cell_type": "code",
   "execution_count": 8,
   "metadata": {
    "colab": {
     "base_uri": "https://localhost:8080/",
     "height": 235
    },
    "colab_type": "code",
    "id": "mDAVmCJdtM31",
    "outputId": "05c9ca5c-3b48-4564-dce2-470ca8a9c320"
   },
   "outputs": [
    {
     "data": {
      "text/html": [
       "<div>\n",
       "<style scoped>\n",
       "    .dataframe tbody tr th:only-of-type {\n",
       "        vertical-align: middle;\n",
       "    }\n",
       "\n",
       "    .dataframe tbody tr th {\n",
       "        vertical-align: top;\n",
       "    }\n",
       "\n",
       "    .dataframe thead th {\n",
       "        text-align: right;\n",
       "    }\n",
       "</style>\n",
       "<table border=\"1\" class=\"dataframe\">\n",
       "  <thead>\n",
       "    <tr style=\"text-align: right;\">\n",
       "      <th></th>\n",
       "      <th>hotel_name</th>\n",
       "      <th>rating</th>\n",
       "      <th>review</th>\n",
       "      <th>language</th>\n",
       "      <th>title</th>\n",
       "      <th>trip_date</th>\n",
       "      <th>tokens</th>\n",
       "      <th>review_lemmatized</th>\n",
       "      <th>title_lemmatized</th>\n",
       "    </tr>\n",
       "    <tr>\n",
       "      <th>published_date</th>\n",
       "      <th></th>\n",
       "      <th></th>\n",
       "      <th></th>\n",
       "      <th></th>\n",
       "      <th></th>\n",
       "      <th></th>\n",
       "      <th></th>\n",
       "      <th></th>\n",
       "      <th></th>\n",
       "    </tr>\n",
       "  </thead>\n",
       "  <tbody>\n",
       "    <tr>\n",
       "      <th>27 septembre 2018</th>\n",
       "      <td>Center Parcs Le Lac d'Ailette</td>\n",
       "      <td>4</td>\n",
       "      <td>Après une désastreuse aventure au Bois franc, ...</td>\n",
       "      <td>fr</td>\n",
       "      <td>très bon week end</td>\n",
       "      <td>août 2018</td>\n",
       "      <td>['apres', 'desastreuse', 'aventure', 'bois', '...</td>\n",
       "      <td>['apre', 'desastr', 'aventur', 'bois', 'franc'...</td>\n",
       "      <td>['tre', 'bon', 'week', 'end']</td>\n",
       "    </tr>\n",
       "    <tr>\n",
       "      <th>18 janvier 2019</th>\n",
       "      <td>Center Parcs Le Lac d'Ailette</td>\n",
       "      <td>5</td>\n",
       "      <td>Ambiance détendue , une vraie déconnexion.  Le...</td>\n",
       "      <td>fr</td>\n",
       "      <td>Séjour agréable comme toujours ,une vraie déco...</td>\n",
       "      <td>mars 2018</td>\n",
       "      <td>['ambiance', 'detendue', 'vraie', 'deconnexion...</td>\n",
       "      <td>['ambianc', 'detendu', 'vrai', 'deconnexion', ...</td>\n",
       "      <td>['sejour', 'agreabl', 'comm', 'toujour', 'vrai...</td>\n",
       "    </tr>\n",
       "    <tr>\n",
       "      <th>11 novembre 2018</th>\n",
       "      <td>Center Parcs Le Lac d'Ailette</td>\n",
       "      <td>3</td>\n",
       "      <td>Première fois que nous allions à center Parcs ...</td>\n",
       "      <td>fr</td>\n",
       "      <td>3,5 serait plus juste</td>\n",
       "      <td>juillet 2018</td>\n",
       "      <td>['premiere', 'fois', 'allions', 'center', 'par...</td>\n",
       "      <td>['premier', 'fois', 'allion', 'cent', 'parc', ...</td>\n",
       "      <td>['3 5', 'plus', 'just']</td>\n",
       "    </tr>\n",
       "    <tr>\n",
       "      <th>3 octobre 2018</th>\n",
       "      <td>Center Parcs Le Lac d'Ailette</td>\n",
       "      <td>4</td>\n",
       "      <td>Génial pour les enfants petits et grands ! Ple...</td>\n",
       "      <td>fr</td>\n",
       "      <td>Endroit sympathique</td>\n",
       "      <td>avril 2018</td>\n",
       "      <td>['genial', 'enfants', 'petits', 'grands', 'ple...</td>\n",
       "      <td>['genial', 'enfant', 'petit', 'grand', 'plein'...</td>\n",
       "      <td>['endroit', 'sympath']</td>\n",
       "    </tr>\n",
       "    <tr>\n",
       "      <th>17 janvier 2019</th>\n",
       "      <td>Center Parcs Le Lac d'Ailette</td>\n",
       "      <td>2</td>\n",
       "      <td>Nous avons fait une réservation avec notre CE ...</td>\n",
       "      <td>fr</td>\n",
       "      <td>Réservation février 2019</td>\n",
       "      <td>janvier 2019</td>\n",
       "      <td>['fait', 'reservation', 'novembre', '2018', 'c...</td>\n",
       "      <td>['fait', 'reserv', 'novembr', '2018', 'cottag'...</td>\n",
       "      <td>['reserv', 'fevri', '2019']</td>\n",
       "    </tr>\n",
       "  </tbody>\n",
       "</table>\n",
       "</div>"
      ],
      "text/plain": [
       "                                      hotel_name  rating  \\\n",
       "published_date                                             \n",
       "27 septembre 2018  Center Parcs Le Lac d'Ailette       4   \n",
       "18 janvier 2019    Center Parcs Le Lac d'Ailette       5   \n",
       "11 novembre 2018   Center Parcs Le Lac d'Ailette       3   \n",
       "3 octobre 2018     Center Parcs Le Lac d'Ailette       4   \n",
       "17 janvier 2019    Center Parcs Le Lac d'Ailette       2   \n",
       "\n",
       "                                                              review language  \\\n",
       "published_date                                                                  \n",
       "27 septembre 2018  Après une désastreuse aventure au Bois franc, ...       fr   \n",
       "18 janvier 2019    Ambiance détendue , une vraie déconnexion.  Le...       fr   \n",
       "11 novembre 2018   Première fois que nous allions à center Parcs ...       fr   \n",
       "3 octobre 2018     Génial pour les enfants petits et grands ! Ple...       fr   \n",
       "17 janvier 2019    Nous avons fait une réservation avec notre CE ...       fr   \n",
       "\n",
       "                                                               title  \\\n",
       "published_date                                                         \n",
       "27 septembre 2018                                  très bon week end   \n",
       "18 janvier 2019    Séjour agréable comme toujours ,une vraie déco...   \n",
       "11 novembre 2018                              3,5 serait plus juste    \n",
       "3 octobre 2018                                   Endroit sympathique   \n",
       "17 janvier 2019                             Réservation février 2019   \n",
       "\n",
       "                       trip_date  \\\n",
       "published_date                     \n",
       "27 septembre 2018      août 2018   \n",
       "18 janvier 2019        mars 2018   \n",
       "11 novembre 2018    juillet 2018   \n",
       "3 octobre 2018        avril 2018   \n",
       "17 janvier 2019     janvier 2019   \n",
       "\n",
       "                                                              tokens  \\\n",
       "published_date                                                         \n",
       "27 septembre 2018  ['apres', 'desastreuse', 'aventure', 'bois', '...   \n",
       "18 janvier 2019    ['ambiance', 'detendue', 'vraie', 'deconnexion...   \n",
       "11 novembre 2018   ['premiere', 'fois', 'allions', 'center', 'par...   \n",
       "3 octobre 2018     ['genial', 'enfants', 'petits', 'grands', 'ple...   \n",
       "17 janvier 2019    ['fait', 'reservation', 'novembre', '2018', 'c...   \n",
       "\n",
       "                                                   review_lemmatized  \\\n",
       "published_date                                                         \n",
       "27 septembre 2018  ['apre', 'desastr', 'aventur', 'bois', 'franc'...   \n",
       "18 janvier 2019    ['ambianc', 'detendu', 'vrai', 'deconnexion', ...   \n",
       "11 novembre 2018   ['premier', 'fois', 'allion', 'cent', 'parc', ...   \n",
       "3 octobre 2018     ['genial', 'enfant', 'petit', 'grand', 'plein'...   \n",
       "17 janvier 2019    ['fait', 'reserv', 'novembr', '2018', 'cottag'...   \n",
       "\n",
       "                                                    title_lemmatized  \n",
       "published_date                                                        \n",
       "27 septembre 2018                      ['tre', 'bon', 'week', 'end']  \n",
       "18 janvier 2019    ['sejour', 'agreabl', 'comm', 'toujour', 'vrai...  \n",
       "11 novembre 2018                             ['3 5', 'plus', 'just']  \n",
       "3 octobre 2018                                ['endroit', 'sympath']  \n",
       "17 janvier 2019                          ['reserv', 'fevri', '2019']  "
      ]
     },
     "execution_count": 8,
     "metadata": {},
     "output_type": "execute_result"
    }
   ],
   "source": [
    "# Deleting '\\n' from content and name columns\n",
    "#clean_n = lambda x: ' '.join(x.split()).lower()\n",
    "\n",
    "#for col in ['name', 'content']:\n",
    "#    df[col] = df[col].apply(clean_n)\n",
    "\n",
    "# Setting date as index\n",
    "df.set_index('published_date', inplace = True)\n",
    "\n",
    "#  Displaying result\n",
    "df.head()"
   ]
  },
  {
   "cell_type": "markdown",
   "metadata": {
    "colab_type": "text",
    "id": "GhNwaxJMECPY"
   },
   "source": [
    "# Exploratory Data Analysis"
   ]
  },
  {
   "cell_type": "code",
   "execution_count": 9,
   "metadata": {
    "colab": {
     "base_uri": "https://localhost:8080/",
     "height": 170
    },
    "colab_type": "code",
    "id": "qzkNSIqexrGI",
    "outputId": "2ade5bd5-2369-4e99-944d-23447fd45923"
   },
   "outputs": [
    {
     "name": "stdout",
     "output_type": "stream",
     "text": [
      "<class 'pandas.core.frame.DataFrame'>\n",
      "Index: 663 entries, 27 septembre 2018 to November 1, 2007\n",
      "Data columns (total 9 columns):\n",
      "hotel_name           663 non-null object\n",
      "rating               663 non-null int64\n",
      "review               663 non-null object\n",
      "language             663 non-null object\n",
      "title                663 non-null object\n",
      "trip_date            663 non-null object\n",
      "tokens               663 non-null object\n",
      "review_lemmatized    663 non-null object\n",
      "title_lemmatized     663 non-null object\n",
      "dtypes: int64(1), object(8)\n",
      "memory usage: 51.8+ KB\n"
     ]
    }
   ],
   "source": [
    "# Even if not really useful for this case, a good habit is to start with df.describe() and df.info() when you start working on a dataFrame\n",
    "df.info()"
   ]
  },
  {
   "cell_type": "markdown",
   "metadata": {
    "colab_type": "text",
    "id": "-S8wX_k9ELU3"
   },
   "source": [
    "**Studying eventual doubles**\n",
    "\n",
    "- We're here looking at names which are pseudos. Be careful, differents people could use the same ones. The date is a good indicator to know if the same person let 2 comments."
   ]
  },
  {
   "cell_type": "code",
   "execution_count": 10,
   "metadata": {
    "colab": {
     "base_uri": "https://localhost:8080/",
     "height": 343
    },
    "colab_type": "code",
    "id": "spwpPLb-tmBJ",
    "outputId": "1ef790e2-cd2a-4769-a5e8-81f6de3e1b32"
   },
   "outputs": [],
   "source": [
    "#print('Number of comments', df.reviewer_id.count())\n",
    "#print('Number of unique names: ', df.reviewer_id.nunique())\n",
    "\n",
    "#double = df.reviewer_id.value_counts().index.tolist()[:sum(df.reviewer_id.value_counts()>=2)]\n",
    "#for name in double:\n",
    "#    print('\\n',name)\n",
    "#    date_double = df[df.reviewer_id==name].index.tolist()\n",
    "#    content_double = df[df.reviewer_id==name].review.tolist()\n",
    "#    [print(date,content) for date,content in zip(date_double,content_double)]"
   ]
  },
  {
   "cell_type": "markdown",
   "metadata": {
    "colab_type": "text",
    "id": "BruF1vFwyIRQ"
   },
   "source": [
    "You might find interesting things in your dataset. \n",
    "\n",
    "For example it is fun here to see **Peltier**'s comments and how he changed is mind:\n",
    "\n",
    "- April 14th 13:41 : \"formule intéressante pour de courtes vacances\"\n",
    "- April 14th 20:33 : \"pas de réseau et deux chaines tv manquantes\" \n",
    "\n"
   ]
  },
  {
   "cell_type": "markdown",
   "metadata": {
    "colab_type": "text",
    "id": "hxSb1N1jEPuN"
   },
   "source": [
    "**Rapid overview of global rating**\n"
   ]
  },
  {
   "cell_type": "code",
   "execution_count": 11,
   "metadata": {
    "colab": {
     "base_uri": "https://localhost:8080/",
     "height": 393
    },
    "colab_type": "code",
    "id": "Wu_sUarGwp1c",
    "outputId": "2cc9626f-fe06-4142-e010-0c8e09c6bd65"
   },
   "outputs": [
    {
     "name": "stdout",
     "output_type": "stream",
     "text": [
      "Average rating is : 3.45\n"
     ]
    },
    {
     "data": {
      "image/png": "[encoded data removed]",
      "text/plain": [
       "<Figure size 432x288 with 1 Axes>"
      ]
     },
     "metadata": {
      "needs_background": "light"
     },
     "output_type": "display_data"
    }
   ],
   "source": [
    "# Average rating value\n",
    "print('Average rating is : {}'.format(round(df.rating.mean(),2)))\n",
    "\n",
    "# Plotting rating distribution\n",
    "X_ratings = df.rating.value_counts()\n",
    "ax = sns.barplot(X_ratings.index,X_ratings,alpha=0.8)\n",
    "ax.set(xlabel='Ratings',ylabel='Frequencies',title='Frequencies of ratings over the {} reviews'.format(df.shape[0]))\n",
    "plt.show()"
   ]
  },
  {
   "cell_type": "markdown",
   "metadata": {
    "colab_type": "text",
    "id": "RtxcYJ-jxKpv"
   },
   "source": [
    "**Distribution of comments length**"
   ]
  },
  {
   "cell_type": "code",
   "execution_count": 12,
   "metadata": {
    "colab": {
     "base_uri": "https://localhost:8080/",
     "height": 349
    },
    "colab_type": "code",
    "id": "KCiWzmLoxL3c",
    "outputId": "7f0c744b-457c-42b9-ba43-b0ac0dbea365"
   },
   "outputs": [
    {
     "ename": "NameError",
     "evalue": "name 'df1' is not defined",
     "output_type": "error",
     "traceback": [
      "\u001b[0;31m---------------------------------------------------------------------------\u001b[0m",
      "\u001b[0;31mNameError\u001b[0m                                 Traceback (most recent call last)",
      "\u001b[0;32m<ipython-input-12-2bf7d83c90b4>\u001b[0m in \u001b[0;36m<module>\u001b[0;34m\u001b[0m\n\u001b[1;32m      1\u001b[0m \u001b[0;31m# Making the plot\u001b[0m\u001b[0;34m\u001b[0m\u001b[0;34m\u001b[0m\u001b[0;34m\u001b[0m\u001b[0m\n\u001b[1;32m      2\u001b[0m \u001b[0mx\u001b[0m \u001b[0;34m=\u001b[0m \u001b[0mplt\u001b[0m\u001b[0;34m.\u001b[0m\u001b[0mfigure\u001b[0m\u001b[0;34m(\u001b[0m\u001b[0mfigsize\u001b[0m\u001b[0;34m=\u001b[0m\u001b[0;34m(\u001b[0m\u001b[0;36m12\u001b[0m\u001b[0;34m,\u001b[0m\u001b[0;36m5\u001b[0m\u001b[0;34m)\u001b[0m\u001b[0;34m)\u001b[0m\u001b[0;34m\u001b[0m\u001b[0;34m\u001b[0m\u001b[0m\n\u001b[0;32m----> 3\u001b[0;31m \u001b[0msns\u001b[0m\u001b[0;34m.\u001b[0m\u001b[0mdistplot\u001b[0m\u001b[0;34m(\u001b[0m\u001b[0mdf1\u001b[0m\u001b[0;34m[\u001b[0m\u001b[0;34m'review'\u001b[0m\u001b[0;34m]\u001b[0m\u001b[0;34m.\u001b[0m\u001b[0mapply\u001b[0m\u001b[0;34m(\u001b[0m\u001b[0mlen\u001b[0m\u001b[0;34m)\u001b[0m\u001b[0;34m)\u001b[0m\u001b[0;34m\u001b[0m\u001b[0;34m\u001b[0m\u001b[0m\n\u001b[0m\u001b[1;32m      4\u001b[0m \u001b[0mplt\u001b[0m\u001b[0;34m.\u001b[0m\u001b[0mtitle\u001b[0m\u001b[0;34m(\u001b[0m\u001b[0;34m'Characters distributions'\u001b[0m\u001b[0;34m)\u001b[0m\u001b[0;34m\u001b[0m\u001b[0;34m\u001b[0m\u001b[0m\n\u001b[1;32m      5\u001b[0m \u001b[0mplt\u001b[0m\u001b[0;34m.\u001b[0m\u001b[0mxticks\u001b[0m\u001b[0;34m(\u001b[0m\u001b[0mrange\u001b[0m\u001b[0;34m(\u001b[0m\u001b[0;36m0\u001b[0m\u001b[0;34m,\u001b[0m\u001b[0;36m2000\u001b[0m\u001b[0;34m,\u001b[0m\u001b[0;36m250\u001b[0m\u001b[0;34m)\u001b[0m\u001b[0;34m)\u001b[0m\u001b[0;34m\u001b[0m\u001b[0;34m\u001b[0m\u001b[0m\n",
      "\u001b[0;31mNameError\u001b[0m: name 'df1' is not defined"
     ]
    },
    {
     "data": {
      "text/plain": [
       "<Figure size 864x360 with 0 Axes>"
      ]
     },
     "metadata": {},
     "output_type": "display_data"
    }
   ],
   "source": [
    "# Making the plot\n",
    "x = plt.figure(figsize=(12,5))\n",
    "sns.distplot(df1['review'].apply(len))\n",
    "plt.title('Characters distributions')\n",
    "plt.xticks(range(0,2000,250))\n",
    "plt.show()"
   ]
  },
  {
   "cell_type": "code",
   "execution_count": null,
   "metadata": {
    "colab": {
     "base_uri": "https://localhost:8080/",
     "height": 378
    },
    "colab_type": "code",
    "id": "7PZ7spdtwyul",
    "outputId": "457b99c4-1e93-45ab-dc2e-14f11cd37cd0"
   },
   "outputs": [],
   "source": [
    "# Repartition of reviews dates\n",
    "# df1['review'].resample('M').count().plot()"
   ]
  },
  {
   "cell_type": "markdown",
   "metadata": {
    "colab_type": "text",
    "id": "MLgz2bdAEn3B"
   },
   "source": [
    "# Pre-Processing 1 : Filters for punctuation and specific characters"
   ]
  },
  {
   "cell_type": "code",
   "execution_count": null,
   "metadata": {
    "colab": {},
    "colab_type": "code",
    "id": "33QCujGbEtQa"
   },
   "outputs": [],
   "source": [
    "# creating a list with all reviews\n",
    "all_reviews = df.review.tolist()"
   ]
  },
  {
   "cell_type": "code",
   "execution_count": null,
   "metadata": {
    "colab": {},
    "colab_type": "code",
    "id": "iOUGQIpCEtSz"
   },
   "outputs": [],
   "source": [
    "# transformating comments into lower-case text \n",
    "lower_reviews = [review.lower() for review in all_reviews]"
   ]
  },
  {
   "cell_type": "code",
   "execution_count": null,
   "metadata": {
    "colab": {},
    "colab_type": "code",
    "id": "sYbuqWVEE94p"
   },
   "outputs": [],
   "source": [
    "# deleting all specific caracters\n",
    "characters_to_remove = [\"@\", \"/\", \"#\", \".\", \",\", \"!\", \"?\", \"(\", \")\", \"-\", \"_\",\"’\",\"'\", \"\\\"\", \":\"]\n",
    "transformation_dict = {initial:\" \" for initial in characters_to_remove}\n",
    "no_punctuation_reviews = [review.translate(str.maketrans(transformation_dict)) for review in lower_reviews]"
   ]
  },
  {
   "cell_type": "code",
   "execution_count": null,
   "metadata": {
    "colab": {},
    "colab_type": "code",
    "id": "SF8kk2hPE97H"
   },
   "outputs": [],
   "source": [
    "# removing accent\n",
    "with_accent = ['é', 'è','ê','ë', 'à','â','ô','û','ù','î','ï']\n",
    "without_accent = ['e', 'e','e','e', 'a','a','o','u','u','i','i']\n",
    "transformation_dict = {before:after for before, after in zip(with_accent, without_accent)}\n",
    "no_accent_reviews = [review.translate(str.maketrans(transformation_dict)) for review in no_punctuation_reviews]"
   ]
  },
  {
   "cell_type": "code",
   "execution_count": null,
   "metadata": {
    "colab": {
     "base_uri": "https://localhost:8080/",
     "height": 377
    },
    "colab_type": "code",
    "id": "x4FoSV8eO92Z",
    "outputId": "69253c41-f0e9-4a85-b970-3cfcff23747c"
   },
   "outputs": [],
   "source": [
    "# Displaying some results \n",
    "for i in range(5):\n",
    "    print(all_reviews[i])\n",
    "    print(no_accent_reviews[i])\n",
    "    print('\\n')"
   ]
  },
  {
   "cell_type": "code",
   "execution_count": null,
   "metadata": {
    "colab": {
     "base_uri": "https://localhost:8080/",
     "height": 85
    },
    "colab_type": "code",
    "id": "18vn7kJQE9-V",
    "outputId": "2c4ac6a3-1ef5-4e22-fcf1-ac602e049c48"
   },
   "outputs": [],
   "source": [
    "def number_of_unique_words(list_of_reviews):\n",
    "  \n",
    "    # Concatenating all reviews from the list\n",
    "    all_words = ''.join(list_of_reviews)\n",
    "\n",
    "    # Tokenizing\n",
    "    unique_tokens = set(word_tokenize(all_words))\n",
    "  \n",
    "    # Returning length of list\n",
    "    return len(unique_tokens)"
   ]
  },
  {
   "cell_type": "code",
   "execution_count": null,
   "metadata": {},
   "outputs": [],
   "source": [
    "print(number_of_unique_words(all_reviews))"
   ]
  },
  {
   "cell_type": "code",
   "execution_count": null,
   "metadata": {},
   "outputs": [],
   "source": [
    "print(number_of_unique_words(lower_reviews))"
   ]
  },
  {
   "cell_type": "code",
   "execution_count": null,
   "metadata": {},
   "outputs": [],
   "source": [
    "print(number_of_unique_words(no_punctuation_reviews))"
   ]
  },
  {
   "cell_type": "code",
   "execution_count": null,
   "metadata": {
    "scrolled": true
   },
   "outputs": [],
   "source": [
    "print(number_of_unique_words(no_accent_reviews))"
   ]
  },
  {
   "cell_type": "markdown",
   "metadata": {
    "colab_type": "text",
    "id": "tjkun2adQ5i9"
   },
   "source": [
    "# Pre-processing 2 : Tokenization"
   ]
  },
  {
   "cell_type": "markdown",
   "metadata": {
    "colab_type": "text",
    "id": "gVRX2Pf3c1Ay"
   },
   "source": [
    "**Doing it in two different ways**"
   ]
  },
  {
   "cell_type": "code",
   "execution_count": null,
   "metadata": {
    "colab": {},
    "colab_type": "code",
    "id": "jpGhYooEFThl"
   },
   "outputs": [],
   "source": [
    "# Using regular expression\n",
    "tokenized_reviews_re = [re.split('\\s+', review) for review in no_accent_reviews]"
   ]
  },
  {
   "cell_type": "code",
   "execution_count": null,
   "metadata": {
    "colab": {},
    "colab_type": "code",
    "id": "pMbnY4XIFTfC"
   },
   "outputs": [],
   "source": [
    "# using NLP libraries\n",
    "tokenized_reviews_nltk = [word_tokenize(review) for review in no_accent_reviews]"
   ]
  },
  {
   "cell_type": "markdown",
   "metadata": {
    "colab_type": "text",
    "id": "ZUO9Rc-Zc7U2"
   },
   "source": [
    "**And making a comparison of results**"
   ]
  },
  {
   "cell_type": "code",
   "execution_count": null,
   "metadata": {
    "colab": {
     "base_uri": "https://localhost:8080/",
     "height": 51
    },
    "colab_type": "code",
    "id": "HQoeqvGHZ87e",
    "outputId": "bcb209c9-a483-424f-f758-69dec9884954"
   },
   "outputs": [],
   "source": [
    "# Making a comparison between both of them\n",
    "print(\"With NLTK  library : {}\".format(len(tokenized_reviews_nltk)))\n",
    "print(\"With RegEx library : {}\".format(len(tokenized_reviews_re)))"
   ]
  },
  {
   "cell_type": "markdown",
   "metadata": {
    "colab_type": "text",
    "id": "RDKdet1KduF3"
   },
   "source": [
    "**Try to analyze the next lines of code and to understand the difference between both of them**"
   ]
  },
  {
   "cell_type": "markdown",
   "metadata": {},
   "source": [
    "Here is an original review"
   ]
  },
  {
   "cell_type": "code",
   "execution_count": null,
   "metadata": {},
   "outputs": [],
   "source": [
    "# Choosing a review to inspect\n",
    "n_review = 10\n",
    "print(all_reviews[n_review])"
   ]
  },
  {
   "cell_type": "markdown",
   "metadata": {},
   "source": [
    "And here are the tokenized ones"
   ]
  },
  {
   "cell_type": "code",
   "execution_count": null,
   "metadata": {},
   "outputs": [],
   "source": [
    "print(tokenized_reviews_nltk[n_review])"
   ]
  },
  {
   "cell_type": "code",
   "execution_count": null,
   "metadata": {},
   "outputs": [],
   "source": [
    "print(tokenized_reviews_re[n_review])"
   ]
  },
  {
   "cell_type": "code",
   "execution_count": null,
   "metadata": {
    "colab": {},
    "colab_type": "code",
    "id": "W9FuzwFdFTku"
   },
   "outputs": [],
   "source": [
    "# We select the secon one which seems more accurate\n",
    "tokenized_reviews = tokenized_reviews_nltk"
   ]
  },
  {
   "cell_type": "markdown",
   "metadata": {
    "colab_type": "text",
    "id": "ighzJ5h1f_e4"
   },
   "source": [
    "# Pre-processing 3 : Stopword removing"
   ]
  },
  {
   "cell_type": "code",
   "execution_count": null,
   "metadata": {
    "colab": {},
    "colab_type": "code",
    "id": "HLDOvubHgn-e"
   },
   "outputs": [],
   "source": [
    "# Using a list with words to delete\n",
    "stopW = stopwords.words('english')"
   ]
  },
  {
   "cell_type": "code",
   "execution_count": null,
   "metadata": {
    "colab": {},
    "colab_type": "code",
    "id": "8jS036yUgn8S"
   },
   "outputs": [],
   "source": [
    "# Customizing it with our needs\n",
    "stopW += ['les', 'a', 'tout',\"i\",\"me\",\"my\",\"myself\",\"we\",\"our\",\"ours\",\"ourselves\",\"you\",\"your\",\"yours\",\"yourself\",\"yourselves\",\"he\",\"him\",\"his\",\"himself\",\"she\",\"her\",\"hers\",\"herself\",\"it\",\"its\",\"itself\",\"they\",\"them\",\"their\",\"theirs\",\"themselves\",\"what\",\"which\",\"who\",\"whom\",\"this\",\"that\",\"these\",\"those\",\"am\",\"is\",\"are\",\"was\",\"were\",\"be\",\"been\",\"being\",\"have\",\"has\",\"had\",\"having\",\"do\",\"does\",\"did\",\"doing\",\"a\",\"an\",\"the\",\"and\",\"but\",\"if\",\"or\",\"because\",\"as\",\"until\",\"while\",\"of\",\"at\",\"by\",\"for\",\"with\",\"about\",\"against\",\"between\",\"into\",\"through\",\"during\",\"before\",\"after\",\"above\",\"below\",\"to\",\"from\",\"up\",\"down\",\"in\",\"out\",\"on\",\"off\",\"over\",\"under\",\"again\",\"further\",\"then\",\"once\",\"here\",\"there\",\"when\",\"where\",\"why\",\"how\",\"all\",\"any\",\"both\",\"each\",\"few\",\"more\",\"most\",\"other\",\"some\",\"such\",\"no\",\"nor\",\"not\",\"only\",\"own\",\"same\",\"so\",\"than\",\"too\",\"very\",\"s\",\"t\",\"can\",\"will\",\"just\",\"don\",\"should\",\"now\"]"
   ]
  },
  {
   "cell_type": "code",
   "execution_count": null,
   "metadata": {
    "colab": {},
    "colab_type": "code",
    "id": "S3wlZQebg5Eq"
   },
   "outputs": [],
   "source": [
    "# Stopword_list\n",
    "df['stopword_reviews'] = [[token for token in review if token not in stopW] for review in tokenized_reviews]\n",
    "              "
   ]
  },
  {
   "cell_type": "code",
   "execution_count": null,
   "metadata": {},
   "outputs": [],
   "source": [
    "df"
   ]
  },
  {
   "cell_type": "markdown",
   "metadata": {
    "colab_type": "text",
    "id": "TVUGs90nEtce"
   },
   "source": [
    "# Some visualization about what we've done - To check if stopword deletion worked"
   ]
  },
  {
   "cell_type": "code",
   "execution_count": null,
   "metadata": {
    "colab": {},
    "colab_type": "code",
    "id": "GVWrijfzTHyq"
   },
   "outputs": [],
   "source": [
    "def plot_frequent_words(list_of_words):    \n",
    "    dist = nltk.FreqDist(list_of_words)\n",
    "    X = [nb[1] for nb in dist.most_common(20)]\n",
    "    y = [nb[0] for nb in dist.most_common(20)]\n",
    "    ax = sns.barplot(X,y)\n",
    "    ax.set(xlabel='Word frequencies',ylabel='Words',title='Most common words in the corpus')\n",
    "    plt.show()"
   ]
  },
  {
   "cell_type": "code",
   "execution_count": null,
   "metadata": {
    "colab": {
     "base_uri": "https://localhost:8080/",
     "height": 393
    },
    "colab_type": "code",
    "id": "XYH8EWTg0bIr",
    "outputId": "e2ed0a87-2dc4-4221-f478-4b648691cfa6"
   },
   "outputs": [],
   "source": [
    "# Making a first plot with original data\n",
    "all_words = []\n",
    "for review in all_reviews:\n",
    "    for word in review.split():\n",
    "        all_words.append(word)\n",
    "\n",
    "plot_frequent_words(all_words)\n",
    "print(len(all_words))"
   ]
  },
  {
   "cell_type": "code",
   "execution_count": null,
   "metadata": {
    "colab": {
     "base_uri": "https://localhost:8080/",
     "height": 393
    },
    "colab_type": "code",
    "id": "E2iUMPlP0Jub",
    "outputId": "c97e79d8-53c9-4bf8-ad33-c3c79cee5ddd",
    "scrolled": true
   },
   "outputs": [],
   "source": [
    "# And making it with our current data\n",
    "all_words = []\n",
    "for review in stopword_reviews:\n",
    "    for word in review:\n",
    "        all_words.append(word)\n",
    "\n",
    "plot_frequent_words(all_words)\n",
    "print(len(all_words))\n",
    "\n"
   ]
  },
  {
   "cell_type": "markdown",
   "metadata": {},
   "source": [
    "### We will decide later if we remove words like cottage, good, great, parcs etc"
   ]
  },
  {
   "cell_type": "markdown",
   "metadata": {
    "colab_type": "text",
    "id": "wE5UXQn8jTp1"
   },
   "source": [
    "...Much better ! Isn't it ?"
   ]
  },
  {
   "cell_type": "markdown",
   "metadata": {},
   "source": [
    "### writing a new file with the cleaned data"
   ]
  },
  {
   "cell_type": "code",
   "execution_count": null,
   "metadata": {},
   "outputs": [],
   "source": [
    "df.to_csv (r'test.csv', index=False)"
   ]
  },
  {
   "cell_type": "markdown",
   "metadata": {},
   "source": [
    "## LDA"
   ]
  },
  {
   "cell_type": "code",
   "execution_count": null,
   "metadata": {},
   "outputs": [],
   "source": [
    "import pandas as pd\n",
    "pd.set_option(\"display.max_colwidth\", 40)\n",
    "import numpy as np\n",
    "import re\n",
    "import spacy\n",
    "import nltk\n",
    "from nltk import FreqDist\n",
    "import gensim\n",
    "from gensim import corpora\n",
    "\n",
    "# libraries for visualization\n",
    "import pyLDAvis\n",
    "import pyLDAvis.gensim\n",
    "import matplotlib.pyplot as plt\n",
    "import seaborn as sns\n",
    "\n",
    "\n",
    "%matplotlib inline"
   ]
  },
  {
   "cell_type": "code",
   "execution_count": null,
   "metadata": {},
   "outputs": [],
   "source": [
    "data = pd.read_csv(\"test.csv\", sep=\",\", index_col=0)"
   ]
  },
  {
   "cell_type": "code",
   "execution_count": null,
   "metadata": {},
   "outputs": [],
   "source": [
    "data['stopword_reviews'] = data['stopword_reviews'].str.replace(r\"[\\[\\]\\']\", \"\").str.split(\", \")\n",
    "data.dropna(subset=['stopword_reviews'], inplace=True)"
   ]
  },
  {
   "cell_type": "markdown",
   "metadata": {},
   "source": [
    "## This is where we add our tailored stopwords"
   ]
  },
  {
   "cell_type": "code",
   "execution_count": null,
   "metadata": {},
   "outputs": [],
   "source": [
    "list_stop_words = [\"&\", \";\", \"2\", \"get\", \"got\", \"went\",\"one\",\"center\",\"really\",\"would\",\"4\",\"great\",\"good\",\"cottage\"]"
   ]
  },
  {
   "cell_type": "code",
   "execution_count": null,
   "metadata": {},
   "outputs": [],
   "source": [
    "def remove_stop_word(x, list_stop_words=list_stop_words):\n",
    "    clean_x = [l for l in x if l not in list_stop_words]\n",
    "    return clean_x"
   ]
  },
  {
   "cell_type": "code",
   "execution_count": null,
   "metadata": {},
   "outputs": [],
   "source": [
    "data['stopword_reviews'] = data['stopword_reviews'].apply(remove_stop_word)"
   ]
  },
  {
   "cell_type": "markdown",
   "metadata": {},
   "source": [
    "## Building the LDA Model"
   ]
  },
  {
   "cell_type": "code",
   "execution_count": null,
   "metadata": {},
   "outputs": [],
   "source": [
    "dictionary = corpora.Dictionary(data['stopword_reviews'])\n",
    "doc_term_matrix = [dictionary.doc2bow(rev) for rev in data['stopword_reviews']]\n"
   ]
  },
  {
   "cell_type": "code",
   "execution_count": null,
   "metadata": {},
   "outputs": [],
   "source": [
    "import warnings\n",
    "warnings.filterwarnings('ignore')\n",
    "\n",
    "# Creating the object for LDA model using gensim library\n",
    "LDA = gensim.models.ldamodel.LdaModel\n",
    "\n",
    "# Build LDA model\n",
    "num_topics = 3\n",
    "lda_model = LDA(corpus=doc_term_matrix, id2word=dictionary, \n",
    "                num_topics=num_topics, \n",
    "                alpha=[0.0001] * num_topics, \n",
    "                eta=[0.0001] * len(dictionary),\n",
    "                chunksize=2000,\n",
    "                passes=4,\n",
    "                random_state=100,\n",
    "               )"
   ]
  },
  {
   "cell_type": "code",
   "execution_count": null,
   "metadata": {},
   "outputs": [],
   "source": [
    "lda_model.print_topics(num_words=8)"
   ]
  },
  {
   "cell_type": "code",
   "execution_count": null,
   "metadata": {},
   "outputs": [],
   "source": [
    "# Visualize the topics\n",
    "pd.options.display.max_colwidth = 2000\n",
    "viz = pyLDAvis.gensim.prepare(lda_model, doc_term_matrix, dictionary, mds='tsne')"
   ]
  },
  {
   "cell_type": "code",
   "execution_count": null,
   "metadata": {},
   "outputs": [],
   "source": [
    "pyLDAvis.enable_notebook()\n",
    "viz"
   ]
  },
  {
   "cell_type": "markdown",
   "metadata": {},
   "source": [
    "## Wordcloud and TFIDF"
   ]
  },
  {
   "cell_type": "code",
   "execution_count": null,
   "metadata": {},
   "outputs": [],
   "source": []
  }
 ],
 "metadata": {
  "colab": {
   "collapsed_sections": [],
   "name": "X_HEC_Session_3_Notebook_1_clean_data.ipynb",
   "provenance": [],
   "version": "0.3.2"
  },
  "kernelspec": {
   "display_name": "Python 3",
   "language": "python",
   "name": "python3"
  },
  "language_info": {
   "codemirror_mode": {
    "name": "ipython",
    "version": 3
   },
   "file_extension": ".py",
   "mimetype": "text/x-python",
   "name": "python",
   "nbconvert_exporter": "python",
   "pygments_lexer": "ipython3",
   "version": "3.7.1"
  }
 },
 "nbformat": 4,
 "nbformat_minor": 1
}
