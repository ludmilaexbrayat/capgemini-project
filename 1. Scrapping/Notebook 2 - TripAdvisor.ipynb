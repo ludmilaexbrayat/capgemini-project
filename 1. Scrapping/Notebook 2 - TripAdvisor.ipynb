{
 "cells": [
  {
   "cell_type": "markdown",
   "metadata": {},
   "source": [
    "# Master Data Science for Business - Data Science Consulting - Session 2 \n",
    "\n",
    "# Notebook 2: \n",
    "\n",
    "# Web Scraping with Scrapy: Getting reviews from TripAdvisor\n",
    "\n",
    "To Do (note for Cap): <br>\n",
    "-Enlever des parties du code que les élèves doivent compléter par eux même "
   ]
  },
  {
   "cell_type": "markdown",
   "metadata": {},
   "source": [
    "## 1. Importing packages"
   ]
  },
  {
   "cell_type": "code",
   "execution_count": 1,
   "metadata": {},
   "outputs": [],
   "source": [
    "import scrapy\n",
    "from scrapy.crawler import CrawlerProcess\n",
    "from scrapy.spiders import CrawlSpider, Rule\n",
    "from scrapy.selector import Selector\n",
    "import sys\n",
    "from scrapy.http import Request\n",
    "from scrapy.linkextractors import LinkExtractor\n",
    "import json\n",
    "import logging\n",
    "import pandas as pd"
   ]
  },
  {
   "cell_type": "markdown",
   "metadata": {},
   "source": [
    "## 2. Some class and functions"
   ]
  },
  {
   "cell_type": "code",
   "execution_count": 2,
   "metadata": {},
   "outputs": [],
   "source": [
    "# -*- coding: utf-8 -*-\n",
    "\n",
    "# Define here the models for your scraped items\n",
    "#\n",
    "# See documentation in:\n",
    "# https://doc.scrapy.org/en/latest/topics/items.html\n",
    "\n",
    "class HotelreviewsItem(scrapy.Item):\n",
    "    # define the fields for your item here like:\n",
    "    rating = scrapy.Field()\n",
    "    review = scrapy.Field()\n",
    "    title = scrapy.Field()\n",
    "    trip_date = scrapy.Field()\n",
    "    trip_type = scrapy.Field()\n",
    "    published_date = scrapy.Field()\n",
    "    hotel_type = scrapy.Field()\n",
    "    hotel_name = scrapy.Field()\n",
    "    price_range = scrapy.Field()\n",
    "    reviewer_id = scrapy.Field()\n",
    "    review_language = scrapy.Field()"
   ]
  },
  {
   "cell_type": "code",
   "execution_count": 3,
   "metadata": {},
   "outputs": [],
   "source": [
    "def user_info_splitter(raw_user_info):\n",
    "    \"\"\"\n",
    "\n",
    "    :param raw_user_info:\n",
    "    :return:\n",
    "    \"\"\"\n",
    "\n",
    "    user_info = {}\n",
    "\n",
    "    splited_info = raw_user_info.split()\n",
    "    for element in splited_info:\n",
    "        converted_element = get_convertible_elements_as_dic(element)\n",
    "        if converted_element:\n",
    "            user_info[converted_element[0]] = converted_element[1]\n",
    "\n",
    "    return user_info"
   ]
  },
  {
   "cell_type": "markdown",
   "metadata": {},
   "source": [
    "## 2. Creating the JSon pipeline "
   ]
  },
  {
   "cell_type": "code",
   "execution_count": 4,
   "metadata": {},
   "outputs": [],
   "source": [
    "#JSon pipeline, you can rename the \"trust.jl\" to the name of your choice\n",
    "class JsonWriterPipeline(object):\n",
    "\n",
    "    def open_spider(self, spider):\n",
    "        self.file = open('tripadvisor.jl', 'w')\n",
    "\n",
    "    def close_spider(self, spider):\n",
    "        self.file.close()\n",
    "\n",
    "    def process_item(self, item, spider):\n",
    "        line = json.dumps(dict(item)) + \"\\n\"\n",
    "        self.file.write(line)\n",
    "        return item"
   ]
  },
  {
   "cell_type": "markdown",
   "metadata": {},
   "source": [
    "## 3. Spider\n",
    "\n",
    "When you go on a TripAdvisor page, you will have 5 reviews per page. Reviews are not fully displayed on the page, so you have to open them (i.e follow the link of the review to tell Scrapy to scrape this page) to scrape them. <br>\n",
    "This means we will use 2 parsing functions: <br>\n",
    "-The first one will go on the page of the parc, and get the links of the reviews <br>\n",
    "-The second one will go on each page of each reviews and scrape them using the parse_item() method. <br>\n",
    "\n",
    "<b>To Do</b>: Complete the code with XPath to get the proper item to scrape. Once you are done, you can \"Restart and run all cells\" to see if everything is working correctly. "
   ]
  },
  {
   "cell_type": "code",
   "execution_count": 5,
   "metadata": {},
   "outputs": [],
   "source": [
    "class MySpider(CrawlSpider):\n",
    "    name = 'BasicSpider'\n",
    "    domain_url = \"https://www.tripadvisor.com\"\n",
    "    # allowed_domains = [\"https://www.tripadvisor.com\"]\n",
    "\n",
    "    start_urls = [\n",
    "        \"https://www.tripadvisor.fr/ShowUserReviews-g1573379-d1573383-r629218790-Center_Parcs_Les_Trois_Forets-Hattigny_Moselle_Grand_Est.html\",\n",
    "    \"https://www.tripadvisor.fr/ShowUserReviews-g1573379-d1573383-r645720538-Center_Parcs_Les_Trois_Forets-Hattigny_Moselle_Grand_Est.html\"]\n",
    "    \n",
    "        #Custom settings to modify settings usually found in the settings.py file \n",
    "    custom_settings = {\n",
    "        'LOG_LEVEL': logging.WARNING,\n",
    "        'ITEM_PIPELINES': {'__main__.JsonWriterPipeline': 1}, # Used for pipeline 1\n",
    "        'FEED_FORMAT':'json',                                 # Used for pipeline 2\n",
    "        'FEED_URI': 'tripadvisor.json'                        # Used for pipeline 2\n",
    "    }\n",
    "\n",
    "    def parse(self, response):\n",
    "\n",
    "        item = HotelreviewsItem()\n",
    "\n",
    "        item[\"reviewer_id\"] = next(iter(response.xpath(\n",
    "            \"//div[contains(@class,'prw_reviews_resp_sur_h_featured_review')]/div/div/div/div/div[contains(@class,'prw_reviews_user_links_hs')]/span/@data-memberid\").extract()),\n",
    "                                   None)\n",
    "        item[\"review_language\"] = next(iter(response.xpath(\n",
    "            \"//div[contains(@class,'prw_reviews_resp_sur_h_featured_review')]/div/div/div/div/div[contains(@class,'prw_reviews_user_links_hs')]/span/@data-language\").extract()),\n",
    "                                       None)\n",
    "\n",
    "        review_url_on_page = response.xpath('//script[@type=\"application/ld+json\"]/text()').extract()\n",
    "        review = eval(review_url_on_page[0])\n",
    "\n",
    "        item[\"review\"] = review[\"reviewBody\"].replace(\"\\\\n\", \"\")\n",
    "        item[\"title\"] = review[\"name\"]\n",
    "        item[\"rating\"] = review[\"reviewRating\"][\"ratingValue\"]\n",
    "        item[\"hotel_type\"] = review[\"itemReviewed\"][\"@type\"]\n",
    "        item[\"hotel_name\"] = review[\"itemReviewed\"][\"name\"]\n",
    "        item[\"price_range\"] = review[\"itemReviewed\"][\"priceRange\"]\n",
    "        try:\n",
    "            item[\"published_date\"] = review[\"datePublished\"]\n",
    "        except KeyError:\n",
    "\n",
    "            item[\"published_date\"] = next(iter(response.xpath(\n",
    "                f\"//div[contains(@id,'review_{review_id}')]/div/div/span[@class='ratingDate']/@title\"\"\").extract()),\n",
    "                                          None)\n",
    "\n",
    "        item[\"trip_type\"] = next(iter(response.xpath(\"//div[contains(@class,\"\n",
    "                                                     \"'prw_reviews_resp_sur_h_featured_review')]/div/div/div/div/div\"\n",
    "                                                     \"/div/div/div[contains(@class,'noRatings')]/text()\").extract()),\n",
    "                                 None)\n",
    "\n",
    "        try:\n",
    "            item[\"trip_date\"] = next(iter(response.xpath(\"//div[contains(@class,\"\n",
    "                                                         \"'prw_reviews_resp_sur_h_featured_review')]/div/div/div/div[\"\n",
    "                                                         \"contains(@class,'prw_reviews_stay_date_hsx')]/text()\").extract(\n",
    "\n",
    "            )), None)\n",
    "\n",
    "        except:\n",
    "\n",
    "            item[\"trip_date\"] = next(iter(response.xpath(\n",
    "                \"//div[contains(@id,'review_538163624')]/div/div/div[@data-prwidget-name='reviews_stay_date_hsx']/text()\").extract()),\n",
    "                                     None)\n",
    "\n",
    "        yield item\n"
   ]
  },
  {
   "cell_type": "markdown",
   "metadata": {},
   "source": [
    "## 4. Crawling"
   ]
  },
  {
   "cell_type": "code",
   "execution_count": 6,
   "metadata": {},
   "outputs": [
    {
     "name": "stderr",
     "output_type": "stream",
     "text": [
      "2019-01-22 10:36:35 [scrapy.utils.log] INFO: Scrapy 1.5.1 started (bot: scrapybot)\n",
      "2019-01-22 10:36:35 [scrapy.utils.log] INFO: Versions: lxml 4.2.1.0, libxml2 2.9.8, cssselect 1.0.3, parsel 1.5.1, w3lib 1.20.0, Twisted 18.9.0, Python 3.6.5 |Anaconda, Inc.| (default, Apr 26 2018, 08:42:37) - [GCC 4.2.1 Compatible Clang 4.0.1 (tags/RELEASE_401/final)], pyOpenSSL 18.0.0 (OpenSSL 1.0.2p  14 Aug 2018), cryptography 2.2.2, Platform Darwin-18.2.0-x86_64-i386-64bit\n",
      "2019-01-22 10:36:35 [scrapy.crawler] INFO: Overridden settings: {'FEED_FORMAT': 'json', 'FEED_URI': 'tripadvisor.json', 'LOG_LEVEL': 30, 'USER_AGENT': 'Mozilla/4.0 (compatible; MSIE 7.0; Windows NT 5.1)'}\n"
     ]
    }
   ],
   "source": [
    "process = CrawlerProcess({\n",
    "    'USER_AGENT': 'Mozilla/4.0 (compatible; MSIE 7.0; Windows NT 5.1)'\n",
    "})\n",
    "\n",
    "process.crawl(MySpider)\n",
    "process.start()"
   ]
  },
  {
   "cell_type": "markdown",
   "metadata": {},
   "source": [
    "## 5. Importing and reading data scraped\n",
    "\n",
    "If you've succeeded, you should see here a dataframe with 2 entries corresponding to the 2 first reviews of the parc, and 11 columns for each item scraped. "
   ]
  },
  {
   "cell_type": "code",
   "execution_count": 10,
   "metadata": {},
   "outputs": [
    {
     "data": {
      "text/html": [
       "<div>\n",
       "<style scoped>\n",
       "    .dataframe tbody tr th:only-of-type {\n",
       "        vertical-align: middle;\n",
       "    }\n",
       "\n",
       "    .dataframe tbody tr th {\n",
       "        vertical-align: top;\n",
       "    }\n",
       "\n",
       "    .dataframe thead th {\n",
       "        text-align: right;\n",
       "    }\n",
       "</style>\n",
       "<table border=\"1\" class=\"dataframe\">\n",
       "  <thead>\n",
       "    <tr style=\"text-align: right;\">\n",
       "      <th></th>\n",
       "      <th>hotel_name</th>\n",
       "      <th>hotel_type</th>\n",
       "      <th>price_range</th>\n",
       "      <th>published_date</th>\n",
       "      <th>rating</th>\n",
       "      <th>review</th>\n",
       "      <th>review_language</th>\n",
       "      <th>reviewer_id</th>\n",
       "      <th>title</th>\n",
       "      <th>trip_date</th>\n",
       "      <th>trip_type</th>\n",
       "    </tr>\n",
       "  </thead>\n",
       "  <tbody>\n",
       "    <tr>\n",
       "      <th>0</th>\n",
       "      <td>Center Parcs - Les Trois Forêts</td>\n",
       "      <td>LodgingBusiness</td>\n",
       "      <td>82€ - 246€  (Selon les tarifs moyens d'une cha...</td>\n",
       "      <td>14 janvier 2019</td>\n",
       "      <td>5</td>\n",
       "      <td>c\\'est le troisi\\u00e8me center parc qu\\'on vi...</td>\n",
       "      <td>fr</td>\n",
       "      <td>66489648A0431D7B98239C5943AD33E8</td>\n",
       "      <td>logement tout equip\\u00e9, luxury</td>\n",
       "      <td>janvier 2019</td>\n",
       "      <td>None</td>\n",
       "    </tr>\n",
       "    <tr>\n",
       "      <th>1</th>\n",
       "      <td>Center Parcs - Les Trois Forêts</td>\n",
       "      <td>LodgingBusiness</td>\n",
       "      <td>82€ - 246€  (Selon les tarifs moyens d'une cha...</td>\n",
       "      <td>28 octobre 2018</td>\n",
       "      <td>5</td>\n",
       "      <td>Seconde fois que nous venons au Center Parcs d...</td>\n",
       "      <td>fr</td>\n",
       "      <td>8EEC078DC3D1895054285B179BEEDA9B</td>\n",
       "      <td>D\\u00e9paysant!</td>\n",
       "      <td>septembre 2018</td>\n",
       "      <td>A voyagé en famille</td>\n",
       "    </tr>\n",
       "  </tbody>\n",
       "</table>\n",
       "</div>"
      ],
      "text/plain": [
       "                        hotel_name       hotel_type  \\\n",
       "0  Center Parcs - Les Trois Forêts  LodgingBusiness   \n",
       "1  Center Parcs - Les Trois Forêts  LodgingBusiness   \n",
       "\n",
       "                                         price_range   published_date  rating  \\\n",
       "0  82€ - 246€  (Selon les tarifs moyens d'une cha...  14 janvier 2019       5   \n",
       "1  82€ - 246€  (Selon les tarifs moyens d'une cha...  28 octobre 2018       5   \n",
       "\n",
       "                                              review review_language  \\\n",
       "0  c\\'est le troisi\\u00e8me center parc qu\\'on vi...              fr   \n",
       "1  Seconde fois que nous venons au Center Parcs d...              fr   \n",
       "\n",
       "                        reviewer_id                              title  \\\n",
       "0  66489648A0431D7B98239C5943AD33E8  logement tout equip\\u00e9, luxury   \n",
       "1  8EEC078DC3D1895054285B179BEEDA9B                    D\\u00e9paysant!   \n",
       "\n",
       "         trip_date            trip_type  \n",
       "0     janvier 2019                 None  \n",
       "1   septembre 2018  A voyagé en famille  "
      ]
     },
     "execution_count": 10,
     "metadata": {},
     "output_type": "execute_result"
    }
   ],
   "source": [
    "dfjson = pd.read_json('tripadvisor.json')\n",
    "#Previewing DF\n",
    "dfjson"
   ]
  },
  {
   "cell_type": "code",
   "execution_count": 8,
   "metadata": {},
   "outputs": [
    {
     "name": "stdout",
     "output_type": "stream",
     "text": [
      "<class 'pandas.core.frame.DataFrame'>\n",
      "RangeIndex: 2 entries, 0 to 1\n",
      "Data columns (total 11 columns):\n",
      "hotel_name         2 non-null object\n",
      "hotel_type         2 non-null object\n",
      "price_range        2 non-null object\n",
      "published_date     2 non-null object\n",
      "rating             2 non-null int64\n",
      "review             2 non-null object\n",
      "review_language    2 non-null object\n",
      "reviewer_id        2 non-null object\n",
      "title              2 non-null object\n",
      "trip_date          2 non-null object\n",
      "trip_type          1 non-null object\n",
      "dtypes: int64(1), object(10)\n",
      "memory usage: 256.0+ bytes\n"
     ]
    }
   ],
   "source": [
    "dfjson.info()"
   ]
  },
  {
   "cell_type": "code",
   "execution_count": null,
   "metadata": {},
   "outputs": [],
   "source": []
  },
  {
   "cell_type": "code",
   "execution_count": null,
   "metadata": {},
   "outputs": [],
   "source": []
  }
 ],
 "metadata": {
  "kernelspec": {
   "display_name": "Python 3",
   "language": "python",
   "name": "python3"
  },
  "language_info": {
   "codemirror_mode": {
    "name": "ipython",
    "version": 3
   },
   "file_extension": ".py",
   "mimetype": "text/x-python",
   "name": "python",
   "nbconvert_exporter": "python",
   "pygments_lexer": "ipython3",
   "version": "3.6.5"
  }
 },
 "nbformat": 4,
 "nbformat_minor": 2
}
